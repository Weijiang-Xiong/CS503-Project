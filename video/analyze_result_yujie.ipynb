{
 "cells": [
  {
   "cell_type": "markdown",
   "metadata": {
    "toc": true
   },
   "source": [
    "<h1>Table of Contents<span class=\"tocSkip\"></span></h1>\n",
    "<div class=\"toc\"><ul class=\"toc-item\"></ul></div>"
   ]
  },
  {
   "cell_type": "code",
   "execution_count": 1,
   "metadata": {},
   "outputs": [],
   "source": [
    "import os\n",
    "import re \n",
    "\n",
    "import numpy as np\n",
    "import pandas as pd \n",
    "import seaborn as sns\n",
    "import matplotlib.pyplot as plt \n",
    "\n",
    "from pathlib import Path\n",
    "import fnmatch\n",
    "\n",
    "from notebook_util import categorical_plot"
   ]
  },
  {
   "cell_type": "code",
   "execution_count": 2,
   "metadata": {},
   "outputs": [],
   "source": [
    "def get_data(path):\n",
    "    df=pd.DataFrame(columns=['episode','ckpt','distance_to_goal','SR','SPL','collisions_count'])\n",
    "    p=Path(path)\n",
    "    file_list = [item.name for item in list(p.glob('*.mp4'))]\n",
    "    data=list()\n",
    "    for i in file_list:\n",
    "        data.append(re.findall(r\"\\d+\\.?\\d*\",i)[:-1])\n",
    "    for i in range(len(data)):\n",
    "        df.loc[i]=data[i]\n",
    "    return df.astype(str).astype(float)"
   ]
  },
  {
   "cell_type": "code",
   "execution_count": 3,
   "metadata": {},
   "outputs": [
    {
     "data": {
      "text/plain": [
       "['mid_kp3d_norm.csv',\n",
       " 'mid_kp3d.csv',\n",
       " 'mid_kp3d_deno.csv',\n",
       " 'mid_kp3d_edge.csv',\n",
       " 'baseline.csv',\n",
       " 'mid_kp3d_norm_curv.csv']"
      ]
     },
     "execution_count": 3,
     "metadata": {},
     "output_type": "execute_result"
    }
   ],
   "source": [
    "res_csvs = fnmatch.filter(os.listdir(\".\"), \"*.csv\")\n",
    "res_csvs"
   ]
  },
  {
   "cell_type": "code",
   "execution_count": 4,
   "metadata": {},
   "outputs": [
    {
     "data": {
      "text/html": [
       "<div>\n",
       "<style scoped>\n",
       "    .dataframe tbody tr th:only-of-type {\n",
       "        vertical-align: middle;\n",
       "    }\n",
       "\n",
       "    .dataframe tbody tr th {\n",
       "        vertical-align: top;\n",
       "    }\n",
       "\n",
       "    .dataframe thead th {\n",
       "        text-align: right;\n",
       "    }\n",
       "</style>\n",
       "<table border=\"1\" class=\"dataframe\">\n",
       "  <thead>\n",
       "    <tr style=\"text-align: right;\">\n",
       "      <th></th>\n",
       "      <th>episode</th>\n",
       "      <th>ckpt</th>\n",
       "      <th>distance_to_goal</th>\n",
       "      <th>SR</th>\n",
       "      <th>SPL</th>\n",
       "      <th>collisions_count</th>\n",
       "      <th>policy</th>\n",
       "    </tr>\n",
       "  </thead>\n",
       "  <tbody>\n",
       "    <tr>\n",
       "      <th>0</th>\n",
       "      <td>3</td>\n",
       "      <td>0</td>\n",
       "      <td>2.47</td>\n",
       "      <td>0.0</td>\n",
       "      <td>0.00</td>\n",
       "      <td>0</td>\n",
       "      <td>mid_kp3d_norm</td>\n",
       "    </tr>\n",
       "    <tr>\n",
       "      <th>1</th>\n",
       "      <td>3</td>\n",
       "      <td>1</td>\n",
       "      <td>1.60</td>\n",
       "      <td>0.0</td>\n",
       "      <td>0.00</td>\n",
       "      <td>10</td>\n",
       "      <td>mid_kp3d_norm</td>\n",
       "    </tr>\n",
       "    <tr>\n",
       "      <th>2</th>\n",
       "      <td>3</td>\n",
       "      <td>2</td>\n",
       "      <td>0.18</td>\n",
       "      <td>1.0</td>\n",
       "      <td>0.63</td>\n",
       "      <td>6</td>\n",
       "      <td>mid_kp3d_norm</td>\n",
       "    </tr>\n",
       "    <tr>\n",
       "      <th>3</th>\n",
       "      <td>3</td>\n",
       "      <td>3</td>\n",
       "      <td>0.21</td>\n",
       "      <td>0.0</td>\n",
       "      <td>0.00</td>\n",
       "      <td>5</td>\n",
       "      <td>mid_kp3d_norm</td>\n",
       "    </tr>\n",
       "    <tr>\n",
       "      <th>4</th>\n",
       "      <td>3</td>\n",
       "      <td>4</td>\n",
       "      <td>1.00</td>\n",
       "      <td>0.0</td>\n",
       "      <td>0.00</td>\n",
       "      <td>5</td>\n",
       "      <td>mid_kp3d_norm</td>\n",
       "    </tr>\n",
       "  </tbody>\n",
       "</table>\n",
       "</div>"
      ],
      "text/plain": [
       "   episode  ckpt  distance_to_goal   SR   SPL  collisions_count         policy\n",
       "0        3     0              2.47  0.0  0.00                 0  mid_kp3d_norm\n",
       "1        3     1              1.60  0.0  0.00                10  mid_kp3d_norm\n",
       "2        3     2              0.18  1.0  0.63                 6  mid_kp3d_norm\n",
       "3        3     3              0.21  0.0  0.00                 5  mid_kp3d_norm\n",
       "4        3     4              1.00  0.0  0.00                 5  mid_kp3d_norm"
      ]
     },
     "execution_count": 4,
     "metadata": {},
     "output_type": "execute_result"
    }
   ],
   "source": [
    "frames = []\n",
    "for exp_file in res_csvs:\n",
    "    exp_name = exp_file.split(\".\")[0]\n",
    "    test_eval = pd.read_csv(exp_file)\n",
    "    test_eval['episode'] = test_eval['episode'].astype(int)\n",
    "    test_eval['ckpt'] = test_eval['ckpt'].astype(int)\n",
    "    test_eval['collisions_count'] = test_eval['collisions_count'].astype(int)\n",
    "    test_eval['policy'] = len(test_eval) * [exp_name]\n",
    "    test_eval = test_eval.sort_values(['episode', 'ckpt']).reset_index(drop=True)\n",
    "    frames.append(test_eval)\n",
    "\n",
    "all_res_df = pd.concat(frames, ignore_index=True)\n",
    "all_res_df.head()\n",
    "    "
   ]
  },
  {
   "cell_type": "code",
   "execution_count": 5,
   "metadata": {},
   "outputs": [
    {
     "data": {
      "text/html": [
       "<div>\n",
       "<style scoped>\n",
       "    .dataframe tbody tr th:only-of-type {\n",
       "        vertical-align: middle;\n",
       "    }\n",
       "\n",
       "    .dataframe tbody tr th {\n",
       "        vertical-align: top;\n",
       "    }\n",
       "\n",
       "    .dataframe thead th {\n",
       "        text-align: right;\n",
       "    }\n",
       "</style>\n",
       "<table border=\"1\" class=\"dataframe\">\n",
       "  <thead>\n",
       "    <tr style=\"text-align: right;\">\n",
       "      <th></th>\n",
       "      <th>episode</th>\n",
       "      <th>ckpt</th>\n",
       "      <th>distance_to_goal</th>\n",
       "      <th>SR</th>\n",
       "      <th>SPL</th>\n",
       "      <th>collisions_count</th>\n",
       "      <th>policy</th>\n",
       "    </tr>\n",
       "  </thead>\n",
       "  <tbody>\n",
       "    <tr>\n",
       "      <th>0</th>\n",
       "      <td>3</td>\n",
       "      <td>49</td>\n",
       "      <td>0.15</td>\n",
       "      <td>1.0</td>\n",
       "      <td>0.93</td>\n",
       "      <td>0</td>\n",
       "      <td>mid_kp3d_norm</td>\n",
       "    </tr>\n",
       "    <tr>\n",
       "      <th>1</th>\n",
       "      <td>7</td>\n",
       "      <td>49</td>\n",
       "      <td>0.16</td>\n",
       "      <td>1.0</td>\n",
       "      <td>1.00</td>\n",
       "      <td>1</td>\n",
       "      <td>mid_kp3d_norm</td>\n",
       "    </tr>\n",
       "    <tr>\n",
       "      <th>2</th>\n",
       "      <td>12</td>\n",
       "      <td>49</td>\n",
       "      <td>0.11</td>\n",
       "      <td>1.0</td>\n",
       "      <td>0.93</td>\n",
       "      <td>0</td>\n",
       "      <td>mid_kp3d_norm</td>\n",
       "    </tr>\n",
       "    <tr>\n",
       "      <th>3</th>\n",
       "      <td>15</td>\n",
       "      <td>49</td>\n",
       "      <td>0.07</td>\n",
       "      <td>1.0</td>\n",
       "      <td>0.98</td>\n",
       "      <td>1</td>\n",
       "      <td>mid_kp3d_norm</td>\n",
       "    </tr>\n",
       "    <tr>\n",
       "      <th>4</th>\n",
       "      <td>16</td>\n",
       "      <td>49</td>\n",
       "      <td>0.04</td>\n",
       "      <td>1.0</td>\n",
       "      <td>1.00</td>\n",
       "      <td>3</td>\n",
       "      <td>mid_kp3d_norm</td>\n",
       "    </tr>\n",
       "  </tbody>\n",
       "</table>\n",
       "</div>"
      ],
      "text/plain": [
       "   episode  ckpt  distance_to_goal   SR   SPL  collisions_count         policy\n",
       "0        3    49              0.15  1.0  0.93                 0  mid_kp3d_norm\n",
       "1        7    49              0.16  1.0  1.00                 1  mid_kp3d_norm\n",
       "2       12    49              0.11  1.0  0.93                 0  mid_kp3d_norm\n",
       "3       15    49              0.07  1.0  0.98                 1  mid_kp3d_norm\n",
       "4       16    49              0.04  1.0  1.00                 3  mid_kp3d_norm"
      ]
     },
     "execution_count": 5,
     "metadata": {},
     "output_type": "execute_result"
    }
   ],
   "source": [
    "all_res_ckpt50_df = all_res_df[all_res_df.ckpt==49].reset_index(drop=True)\n",
    "all_res_ckpt50_df.head()"
   ]
  },
  {
   "cell_type": "code",
   "execution_count": 6,
   "metadata": {},
   "outputs": [
    {
     "data": {
      "image/png": "[encoded data removed]",
      "text/plain": [
       "<Figure size 720x288 with 1 Axes>"
      ]
     },
     "metadata": {
      "needs_background": "light"
     },
     "output_type": "display_data"
    },
    {
     "data": {
      "image/png": "[encoded data removed]",
      "text/plain": [
       "<Figure size 720x288 with 1 Axes>"
      ]
     },
     "metadata": {},
     "output_type": "display_data"
    }
   ],
   "source": [
    "fig, axes = plt.subplots(figsize=(10, 4))\n",
    "\n",
    "categorical_plot(\n",
    "    axes=axes,\n",
    "    df=all_res_ckpt50_df,\n",
    "    metric='distance_to_goal',\n",
    "    catogory='policy',\n",
    "    title=None,\n",
    "    xlabel='',\n",
    "    ylabel='Distance to goal [m]',\n",
    "    ylim=[0.0, 0.30],\n",
    "    kind='box',\n",
    ")\n",
    "\n",
    "fig2, axes2 = plt.subplots(figsize=(10, 4))\n",
    "\n",
    "categorical_plot(\n",
    "    axes=axes2,\n",
    "    df=all_res_ckpt50_df,\n",
    "    metric='SPL',\n",
    "    catogory='policy',\n",
    "    title=None,\n",
    "    xlabel='',\n",
    "    ylabel='Success weighted by path length',\n",
    "    ylim=[0.85, 1.02],\n",
    "    kind='box',\n",
    ")"
   ]
  },
  {
   "cell_type": "code",
   "execution_count": null,
   "metadata": {},
   "outputs": [],
   "source": []
  }
 ],
 "metadata": {
  "kernelspec": {
   "display_name": "Python 3 (ipykernel)",
   "language": "python",
   "name": "python3"
  },
  "language_info": {
   "codemirror_mode": {
    "name": "ipython",
    "version": 3
   },
   "file_extension": ".py",
   "mimetype": "text/x-python",
   "name": "python",
   "nbconvert_exporter": "python",
   "pygments_lexer": "ipython3",
   "version": "3.6.13"
  },
  "toc": {
   "base_numbering": 1,
   "nav_menu": {},
   "number_sections": true,
   "sideBar": true,
   "skip_h1_title": false,
   "title_cell": "Table of Contents",
   "title_sidebar": "Contents",
   "toc_cell": true,
   "toc_position": {},
   "toc_section_display": true,
   "toc_window_display": true
  }
 },
 "nbformat": 4,
 "nbformat_minor": 2
}
